{
 "cells": [
  {
   "cell_type": "markdown",
   "id": "c4fe77f4",
   "metadata": {},
   "source": [
    "# Logistic Regression Model\n",
    "----\n",
    "All of the data from EDA is linear in nature. Other models can be viable but simple is almost always better as long as it performs well."
   ]
  },
  {
   "cell_type": "code",
   "execution_count": 1,
   "id": "63993692",
   "metadata": {},
   "outputs": [],
   "source": [
    "import pandas as pd\n",
    "import numpy as np\n",
    "import matplotlib.pyplot as plt\n",
    "import seaborn as sns\n",
    "\n",
    "from sklearn.linear_model import LogisticRegression\n",
    "from sklearn.preprocessing import StandardScaler\n",
    "from sklearn.model_selection import train_test_split, cross_val_score\n",
    "from sklearn.metrics import confusion_matrix, roc_curve, auc\n",
    "from sklearn.decomposition import PCA"
   ]
  },
  {
   "cell_type": "code",
   "execution_count": 2,
   "id": "9ad2f165",
   "metadata": {},
   "outputs": [],
   "source": [
    "lol = pd.read_csv(\"./data/matches/processed_match_df.csv\", compression=\"zip\")"
   ]
  },
  {
   "cell_type": "code",
   "execution_count": 3,
   "id": "1c28813a",
   "metadata": {},
   "outputs": [
    {
     "data": {
      "text/html": [
       "<div>\n",
       "<style scoped>\n",
       "    .dataframe tbody tr th:only-of-type {\n",
       "        vertical-align: middle;\n",
       "    }\n",
       "\n",
       "    .dataframe tbody tr th {\n",
       "        vertical-align: top;\n",
       "    }\n",
       "\n",
       "    .dataframe thead th {\n",
       "        text-align: right;\n",
       "    }\n",
       "</style>\n",
       "<table border=\"1\" class=\"dataframe\">\n",
       "  <thead>\n",
       "    <tr style=\"text-align: right;\">\n",
       "      <th></th>\n",
       "      <th>match_id</th>\n",
       "      <th>game_duration</th>\n",
       "      <th>game_mode</th>\n",
       "      <th>game_type</th>\n",
       "      <th>game_version</th>\n",
       "      <th>t1p1_assists</th>\n",
       "      <th>t1p1_baronKills</th>\n",
       "      <th>t1p1_bountyLevel</th>\n",
       "      <th>t1p1_champExperience</th>\n",
       "      <th>t1p1_champLevel</th>\n",
       "      <th>...</th>\n",
       "      <th>t1-t2_total_totalDamageDealt_mod</th>\n",
       "      <th>t1-t2_total_totalDamageDealtToChampions_mod</th>\n",
       "      <th>t1-t2_total_totalDamageShieldedOnTeammates_mod</th>\n",
       "      <th>t1-t2_total_totalDamageTaken_mod</th>\n",
       "      <th>t1-t2_total_totalHeal_mod</th>\n",
       "      <th>t1-t2_total_totalHealsOnTeammates_mod</th>\n",
       "      <th>t1-t2_total_totalUnitsHealed_mod</th>\n",
       "      <th>t1-t2_total_trueDamageDealt_mod</th>\n",
       "      <th>t1-t2_total_trueDamageDealtToChampions_mod</th>\n",
       "      <th>t1-t2_total_trueDamageTaken_mod</th>\n",
       "    </tr>\n",
       "  </thead>\n",
       "  <tbody>\n",
       "    <tr>\n",
       "      <th>0</th>\n",
       "      <td>NA1_4201994783</td>\n",
       "      <td>1470</td>\n",
       "      <td>CLASSIC</td>\n",
       "      <td>MATCHED_GAME</td>\n",
       "      <td>12.2.419.1399</td>\n",
       "      <td>7</td>\n",
       "      <td>0</td>\n",
       "      <td>0</td>\n",
       "      <td>8396</td>\n",
       "      <td>11</td>\n",
       "      <td>...</td>\n",
       "      <td>-199908.0</td>\n",
       "      <td>-21853.0</td>\n",
       "      <td>-13660.0</td>\n",
       "      <td>18183.0</td>\n",
       "      <td>-8029.0</td>\n",
       "      <td>-4127.0</td>\n",
       "      <td>-7.0</td>\n",
       "      <td>-173535.0</td>\n",
       "      <td>888.0</td>\n",
       "      <td>-885.0</td>\n",
       "    </tr>\n",
       "    <tr>\n",
       "      <th>1</th>\n",
       "      <td>NA1_4204324706</td>\n",
       "      <td>944</td>\n",
       "      <td>CLASSIC</td>\n",
       "      <td>MATCHED_GAME</td>\n",
       "      <td>12.3.421.3734</td>\n",
       "      <td>2</td>\n",
       "      <td>0</td>\n",
       "      <td>0</td>\n",
       "      <td>7015</td>\n",
       "      <td>10</td>\n",
       "      <td>...</td>\n",
       "      <td>-53092.0</td>\n",
       "      <td>-9822.0</td>\n",
       "      <td>902.0</td>\n",
       "      <td>6676.0</td>\n",
       "      <td>-1795.0</td>\n",
       "      <td>-903.0</td>\n",
       "      <td>5.0</td>\n",
       "      <td>-28335.0</td>\n",
       "      <td>-2402.0</td>\n",
       "      <td>2401.0</td>\n",
       "    </tr>\n",
       "    <tr>\n",
       "      <th>2</th>\n",
       "      <td>NA1_4215791943</td>\n",
       "      <td>1629</td>\n",
       "      <td>CLASSIC</td>\n",
       "      <td>MATCHED_GAME</td>\n",
       "      <td>12.3.421.5967</td>\n",
       "      <td>5</td>\n",
       "      <td>1</td>\n",
       "      <td>4</td>\n",
       "      <td>14510</td>\n",
       "      <td>15</td>\n",
       "      <td>...</td>\n",
       "      <td>106361.0</td>\n",
       "      <td>16296.0</td>\n",
       "      <td>6231.0</td>\n",
       "      <td>5908.0</td>\n",
       "      <td>5463.0</td>\n",
       "      <td>-2614.0</td>\n",
       "      <td>0.0</td>\n",
       "      <td>-1508.0</td>\n",
       "      <td>-2469.0</td>\n",
       "      <td>6241.0</td>\n",
       "    </tr>\n",
       "    <tr>\n",
       "      <th>3</th>\n",
       "      <td>NA1_4200912084</td>\n",
       "      <td>1329</td>\n",
       "      <td>CLASSIC</td>\n",
       "      <td>MATCHED_GAME</td>\n",
       "      <td>12.2.419.1399</td>\n",
       "      <td>4</td>\n",
       "      <td>0</td>\n",
       "      <td>0</td>\n",
       "      <td>10220</td>\n",
       "      <td>13</td>\n",
       "      <td>...</td>\n",
       "      <td>-205800.0</td>\n",
       "      <td>-29921.0</td>\n",
       "      <td>0.0</td>\n",
       "      <td>18210.0</td>\n",
       "      <td>-703.0</td>\n",
       "      <td>2634.0</td>\n",
       "      <td>6.0</td>\n",
       "      <td>-21802.0</td>\n",
       "      <td>-3337.0</td>\n",
       "      <td>3337.0</td>\n",
       "    </tr>\n",
       "    <tr>\n",
       "      <th>4</th>\n",
       "      <td>NA1_4218373259</td>\n",
       "      <td>1718</td>\n",
       "      <td>CLASSIC</td>\n",
       "      <td>MATCHED_GAME</td>\n",
       "      <td>12.3.421.5967</td>\n",
       "      <td>3</td>\n",
       "      <td>0</td>\n",
       "      <td>0</td>\n",
       "      <td>14922</td>\n",
       "      <td>16</td>\n",
       "      <td>...</td>\n",
       "      <td>-130649.0</td>\n",
       "      <td>-7203.0</td>\n",
       "      <td>-1049.0</td>\n",
       "      <td>3282.0</td>\n",
       "      <td>-18145.0</td>\n",
       "      <td>0.0</td>\n",
       "      <td>0.0</td>\n",
       "      <td>-27891.0</td>\n",
       "      <td>5414.0</td>\n",
       "      <td>-5433.0</td>\n",
       "    </tr>\n",
       "  </tbody>\n",
       "</table>\n",
       "<p>5 rows × 1351 columns</p>\n",
       "</div>"
      ],
      "text/plain": [
       "         match_id  game_duration game_mode     game_type   game_version  \\\n",
       "0  NA1_4201994783           1470   CLASSIC  MATCHED_GAME  12.2.419.1399   \n",
       "1  NA1_4204324706            944   CLASSIC  MATCHED_GAME  12.3.421.3734   \n",
       "2  NA1_4215791943           1629   CLASSIC  MATCHED_GAME  12.3.421.5967   \n",
       "3  NA1_4200912084           1329   CLASSIC  MATCHED_GAME  12.2.419.1399   \n",
       "4  NA1_4218373259           1718   CLASSIC  MATCHED_GAME  12.3.421.5967   \n",
       "\n",
       "   t1p1_assists  t1p1_baronKills  t1p1_bountyLevel  t1p1_champExperience  \\\n",
       "0             7                0                 0                  8396   \n",
       "1             2                0                 0                  7015   \n",
       "2             5                1                 4                 14510   \n",
       "3             4                0                 0                 10220   \n",
       "4             3                0                 0                 14922   \n",
       "\n",
       "   t1p1_champLevel  ...  t1-t2_total_totalDamageDealt_mod  \\\n",
       "0               11  ...                         -199908.0   \n",
       "1               10  ...                          -53092.0   \n",
       "2               15  ...                          106361.0   \n",
       "3               13  ...                         -205800.0   \n",
       "4               16  ...                         -130649.0   \n",
       "\n",
       "  t1-t2_total_totalDamageDealtToChampions_mod  \\\n",
       "0                                    -21853.0   \n",
       "1                                     -9822.0   \n",
       "2                                     16296.0   \n",
       "3                                    -29921.0   \n",
       "4                                     -7203.0   \n",
       "\n",
       "   t1-t2_total_totalDamageShieldedOnTeammates_mod  \\\n",
       "0                                        -13660.0   \n",
       "1                                           902.0   \n",
       "2                                          6231.0   \n",
       "3                                             0.0   \n",
       "4                                         -1049.0   \n",
       "\n",
       "   t1-t2_total_totalDamageTaken_mod  t1-t2_total_totalHeal_mod  \\\n",
       "0                           18183.0                    -8029.0   \n",
       "1                            6676.0                    -1795.0   \n",
       "2                            5908.0                     5463.0   \n",
       "3                           18210.0                     -703.0   \n",
       "4                            3282.0                   -18145.0   \n",
       "\n",
       "   t1-t2_total_totalHealsOnTeammates_mod  t1-t2_total_totalUnitsHealed_mod  \\\n",
       "0                                -4127.0                              -7.0   \n",
       "1                                 -903.0                               5.0   \n",
       "2                                -2614.0                               0.0   \n",
       "3                                 2634.0                               6.0   \n",
       "4                                    0.0                               0.0   \n",
       "\n",
       "   t1-t2_total_trueDamageDealt_mod  \\\n",
       "0                        -173535.0   \n",
       "1                         -28335.0   \n",
       "2                          -1508.0   \n",
       "3                         -21802.0   \n",
       "4                         -27891.0   \n",
       "\n",
       "   t1-t2_total_trueDamageDealtToChampions_mod  t1-t2_total_trueDamageTaken_mod  \n",
       "0                                       888.0                           -885.0  \n",
       "1                                     -2402.0                           2401.0  \n",
       "2                                     -2469.0                           6241.0  \n",
       "3                                     -3337.0                           3337.0  \n",
       "4                                      5414.0                          -5433.0  \n",
       "\n",
       "[5 rows x 1351 columns]"
      ]
     },
     "execution_count": 3,
     "metadata": {},
     "output_type": "execute_result"
    }
   ],
   "source": [
    "lol.head()"
   ]
  },
  {
   "cell_type": "code",
   "execution_count": 4,
   "id": "937c902e",
   "metadata": {},
   "outputs": [
    {
     "data": {
      "text/plain": [
       "(17493, 1351)"
      ]
     },
     "execution_count": 4,
     "metadata": {},
     "output_type": "execute_result"
    }
   ],
   "source": [
    "lol.shape"
   ]
  },
  {
   "cell_type": "markdown",
   "id": "b682e99d",
   "metadata": {},
   "source": [
    "# Feature Selection\n",
    "----\n",
    "Logistic Regression is a linear model and thus Pearson Correlation (default `.corr()`) will function well with the model as long as the features are linear."
   ]
  },
  {
   "cell_type": "code",
   "execution_count": 5,
   "id": "80952e6e",
   "metadata": {},
   "outputs": [
    {
     "data": {
      "text/plain": [
       "t1_win                                         1.000000\n",
       "t1-t2_total_goldEarned                         0.908458\n",
       "t1-t2_total_champLevel                         0.900362\n",
       "t1-t2_tower_kills                              0.875399\n",
       "t1-t2_total_bountyLevel                        0.865795\n",
       "t1-t2_total_kills                              0.854749\n",
       "t1-t2_champion_kills                           0.854396\n",
       "t1-t2_total_damageDealtToTurrets_mod           0.841732\n",
       "t1-t2_total_damageDealtToTurrets               0.841543\n",
       "t1-t2_total_damageDealtToObjectives_mod        0.823744\n",
       "t1-t2_total_damageDealtToObjectives            0.823091\n",
       "t1-t2_avgDominanceRatio                        0.812683\n",
       "t1_total_bountyLevel                           0.802261\n",
       "t1-t2_total_assists                            0.793132\n",
       "t1_avgDominanceRatio                           0.773425\n",
       "t1-t2_total_goldSpent                          0.763658\n",
       "t2_turretsLost                                 0.762409\n",
       "t1_tower_kills                                 0.762409\n",
       "t1-t2_total_killingSprees                      0.761638\n",
       "t1-t2_total_totalDamageDealt_mod               0.757377\n",
       "t1-t2_total_totalDamageDealt                   0.751283\n",
       "t1-t2_inhibitor_kills                          0.743589\n",
       "t2_nexusLost                                   0.733430\n",
       "t1-t2_total_totalDamageDealtToChampions_mod    0.722985\n",
       "t1_total_damageDealtToTurrets                  0.716930\n",
       "t1_total_damageDealtToBuildings                0.716930\n",
       "t1-t2_total_totalDamageDealtToChampions        0.714639\n",
       "t1_largerkillingSpree                          0.702290\n",
       "t1_inhibitor_first                             0.700214\n",
       "t1-t2_total_weightedMultikills                 0.686389\n",
       "t1-t2_total_firsts                             0.663383\n",
       "t1_total_firsts                                0.645849\n",
       "t1_total_damageDealtToObjectives               0.629452\n",
       "t1-t2_total_neutralMinionsKilled               0.628698\n",
       "t2_inhibitorsLost                              0.616691\n",
       "t1_inhibitor_kills                             0.616691\n",
       "t1-t2_dragon_kills                             0.611462\n",
       "t1-t2_baron_kills                              0.583374\n",
       "t1p2_dominanceRatio                            0.550050\n",
       "t1_total_kills                                 0.542284\n",
       "t1_dragon_kills                                0.541735\n",
       "t1_champion_kills                              0.541105\n",
       "t2_total_deaths                                0.540861\n",
       "t1-t2_totalItemsValues                         0.536477\n",
       "t1p4_turretKills                               0.534863\n",
       "t1p4_bountyLevel                               0.533844\n",
       "t1p4_dominanceRatio                            0.523963\n",
       "t1p5_dominanceRatio                            0.515685\n",
       "t1p3_dominanceRatio                            0.507304\n",
       "t1p4_damageDealtToTurrets                      0.505754\n",
       "dtype: float64"
      ]
     },
     "execution_count": 5,
     "metadata": {},
     "output_type": "execute_result"
    }
   ],
   "source": [
    "lol.corrwith(lol[\"t1_win\"]).sort_values(ascending=False)[0:50]"
   ]
  },
  {
   "cell_type": "markdown",
   "id": "4a50887e",
   "metadata": {},
   "source": [
    "Due to how EDA was done most of the values in the dataset are accounted for by the t1-t2 features.\n",
    "\n",
    "The few standouts that are not in the `t1-t2` features are `t#_nexusLost` but that is a direct correlation as winning is determined by killing the Nexus this is a direct implication of the target.\n",
    "\n",
    "The Match Features are not overly correlated to team victory so these can safely be left out. As such to start the `t1-t2` values as well as `t1_largerKillingSpree` is the best spot to start modelling."
   ]
  },
  {
   "cell_type": "code",
   "execution_count": 6,
   "id": "584296af",
   "metadata": {},
   "outputs": [],
   "source": [
    "features = [feature for feature in lol.corrwith(lol[\"t1_win\"]).sort_values(ascending=False).index\n",
    "            if feature.startswith(\"t1-t2\")]\n",
    "\n",
    "#append the only features from EDA that does not start with t1-t2\n",
    "features.append(\"t1_largerkillingSpree\")\n",
    "\n",
    "# remove kills, deaths and assists. This is accounted for in dominance ratio\n",
    "features = [feature for feature in features\n",
    "            if feature not in [\"t1-t2_total_kills\", \"t1-t2_total_deaths\", \"t1-t2_total_assists\"]]\n",
    "\n",
    "# has a NaN for correlation\n",
    "features.remove(\"t1-t2_total_sightWardsBoughtInGame\")"
   ]
  },
  {
   "cell_type": "markdown",
   "id": "28f77992",
   "metadata": {},
   "source": [
    "# Baseline\n",
    "----"
   ]
  },
  {
   "cell_type": "code",
   "execution_count": 7,
   "id": "829ebeb5",
   "metadata": {},
   "outputs": [
    {
     "name": "stdout",
     "output_type": "stream",
     "text": [
      "The baseline model is 47.768%\n"
     ]
    }
   ],
   "source": [
    "print(f\"The baseline model is {lol['t1_win'].mean():.3%}\")"
   ]
  },
  {
   "cell_type": "markdown",
   "id": "5773c36f",
   "metadata": {},
   "source": [
    "# Modelling\n",
    "----"
   ]
  },
  {
   "cell_type": "markdown",
   "id": "5efc0c62",
   "metadata": {},
   "source": [
    "## First Model - Basic\n",
    "The first model is going to be a basic model and will not include much in the way of feature selection or the modified columns for games over 40 minutes. This will serve as a null hypothesis for future models to determine whether the modifications improve or hurt the model."
   ]
  },
  {
   "cell_type": "code",
   "execution_count": 8,
   "id": "1b3fb901",
   "metadata": {},
   "outputs": [],
   "source": [
    "desired_features = [feature for feature in features if \"mod\" not in feature]"
   ]
  },
  {
   "cell_type": "code",
   "execution_count": 9,
   "id": "2afd9b76",
   "metadata": {},
   "outputs": [],
   "source": [
    "X = lol[desired_features]\n",
    "y = lol[\"t1_win\"]\n",
    "\n",
    "X_train, X_test, y_train, y_test = train_test_split(X, y, test_size=0.20, random_state=42)\n",
    "\n",
    "logreg = LogisticRegression(solver = \"liblinear\", random_state=42)\n",
    "ss = StandardScaler()\n",
    "\n",
    "Xs_train = ss.fit_transform(X_train)\n",
    "Xs_test = ss.transform(X_test)\n",
    "\n",
    "logreg.fit(Xs_train, y_train)\n",
    "lol[\"preds\"] = logreg.predict(X);"
   ]
  },
  {
   "cell_type": "code",
   "execution_count": 10,
   "id": "be5849d3",
   "metadata": {},
   "outputs": [
    {
     "name": "stdout",
     "output_type": "stream",
     "text": [
      "R2 Score: 96.907% ± 0.0127\n"
     ]
    }
   ],
   "source": [
    "scores = cross_val_score(logreg, X, y, cv=10, scoring=\"r2\", n_jobs=-1)\n",
    "\n",
    "print(f\"R2 Score: {scores.mean():.3%} ± {2 * scores.std():.3}\")"
   ]
  },
  {
   "cell_type": "code",
   "execution_count": 11,
   "id": "36a1ca13",
   "metadata": {},
   "outputs": [
    {
     "name": "stdout",
     "output_type": "stream",
     "text": [
      "The number of True Negatives is 8590\n",
      "The number of False Positives is 547\n",
      "The number of False Negatives is 672\n",
      "The number of True Positives is 7684\n"
     ]
    }
   ],
   "source": [
    "tn, fp, fn, tp = confusion_matrix(y, logreg.predict(X)).ravel()\n",
    "print(f\"The number of True Negatives is {tn}\\n\"\n",
    "      f\"The number of False Positives is {fp}\\n\"\n",
    "      f\"The number of False Negatives is {fn}\\n\"\n",
    "      f\"The number of True Positives is {tp}\")"
   ]
  },
  {
   "cell_type": "code",
   "execution_count": 12,
   "id": "1aa0b280",
   "metadata": {},
   "outputs": [
    {
     "data": {
      "image/png": "[encoded data removed]",
      "text/plain": [
       "<Figure size 540x540 with 1 Axes>"
      ]
     },
     "metadata": {},
     "output_type": "display_data"
    }
   ],
   "source": [
    "conf_matrix = confusion_matrix(y, logreg.predict(X))\n",
    "fig, ax = plt.subplots(figsize=(7.5, 7.5), facecolor=\"w\")\n",
    "ax.matshow(conf_matrix, cmap=plt.cm.Blues, alpha=0.3)\n",
    "for i in range(conf_matrix.shape[0]):\n",
    "    for j in range(conf_matrix.shape[1]):\n",
    "        ax.text(x=j, y=i,s=conf_matrix[i, j], va='center', ha='center', size='xx-large')\n",
    "\n",
    "plt.title('Confusion Matrix', fontsize=24)\n",
    "plt.xlabel('Predictions', fontsize=18)\n",
    "plt.ylabel('Actuals', fontsize=18);"
   ]
  },
  {
   "cell_type": "code",
   "execution_count": 13,
   "id": "e6d230c8",
   "metadata": {},
   "outputs": [
    {
     "name": "stdout",
     "output_type": "stream",
     "text": [
      "F1 Score: 0.992 ± 0.00332\n",
      "R2 Score: 0.969 ± 0.0127\n",
      "\n",
      "Accuracy: 93.031%\n",
      "Precision: 93.354%\n",
      "Sensitivity 91.958%\n",
      "Recall: 91.958%\n"
     ]
    }
   ],
   "source": [
    "accuracy = (tp + tn) / len(y)\n",
    "precision = tp / (tp + fp)\n",
    "sensitivity = tp / (fn + tp)\n",
    "recall = tp / (tp + fn)\n",
    "\n",
    "f1 = cross_val_score(logreg, X, y, cv=10, scoring=\"f1\", n_jobs=-1)\n",
    "\n",
    "print(f\"F1 Score: {f1.mean():.3} ± {2 * f1.std():.3}\\n\"\n",
    "      f\"R2 Score: {scores.mean():.3} ± {2 * scores.std():.3}\"\n",
    "      \"\\n\\n\"\n",
    "      f\"Accuracy: {accuracy:.3%}\\n\"\n",
    "      f\"Precision: {precision:.3%}\\n\"\n",
    "      f\"Sensitivity {sensitivity:.3%}\\n\"\n",
    "      f\"Recall: {recall:.3%}\")"
   ]
  },
  {
   "cell_type": "code",
   "execution_count": 14,
   "id": "52cea70e",
   "metadata": {},
   "outputs": [
    {
     "data": {
      "image/png": "[encoded data removed]",
      "text/plain": [
       "<Figure size 576x432 with 1 Axes>"
      ]
     },
     "metadata": {},
     "output_type": "display_data"
    }
   ],
   "source": [
    "#calculate y_train fpr, tpr and thresholds\n",
    "y_train_score = logreg.decision_function(X_train)\n",
    "train_fpr, train_tpr, thresholds = roc_curve(y_train, y_train_score)\n",
    "\n",
    "#calculate y_test fpr, tpr and thresholds\n",
    "y_test_score = logreg.decision_function(X_test)\n",
    "test_fpr, test_tpr, test_thresholds = roc_curve(y_test, y_test_score)\n",
    "\n",
    "#plot\n",
    "plt.figure(figsize=(8,6), facecolor=\"w\")\n",
    "plt.plot(test_fpr, test_tpr, color='darkorange', label='ROC curve')\n",
    "plt.plot(np.linspace(0,1), np.linspace(0,1), color=\"b\", linestyle='dotted')\n",
    "\n",
    "plt.title(\"ROC Curve compared to 50/50 Threshold\", size=24)\n",
    "plt.xlabel(\"Test False Positive Rate\", size=14)\n",
    "plt.ylabel(\"Test True Positive Rate\", size=14);"
   ]
  },
  {
   "cell_type": "markdown",
   "id": "76b6c1b1",
   "metadata": {},
   "source": [
    "## Interpretation\n",
    "----\n",
    "These results are quite good and indicative of the work that went into the EDA and cleaning process.\n",
    "\n",
    "As the baseline is 47.7% this model can be accepted as superior to the baseline model.\n",
    "\n",
    "There are still a decent amount of False Positives and False Negatives which will likely be able to be reduced with additional feature selection. The model is almost assuredly overfit right now despite the fairly high R2 CV Score.\n",
    "\n",
    "The ROC curve is fairly right angled which is great for a preliminary pass but it visually confirms there are flaws in the model which can hopefully be resolved.\n"
   ]
  },
  {
   "cell_type": "markdown",
   "id": "dd52fe18",
   "metadata": {},
   "source": [
    "## Second Model - Reduce Complexity\n",
    "----\n",
    "A few improvements can be made to the second model by reducing complexity.\n",
    " - `t1-t2_turretsLost` needs to be removed as it is directly correlated to `t1-t2_tower_kills`\n",
    " - `t1-t2_inhibitorsLost` needs to be removed as it is directly correlated to `t1-t2_inhibitor_kills`\n",
    " - Remove all features which do not have at least a correlation coefficient of absolute value 0.5 or greater\n",
    " \n",
    "This step reduces the complexity of the dataset from 55 features to 22 features."
   ]
  },
  {
   "cell_type": "code",
   "execution_count": 15,
   "id": "9b83a769",
   "metadata": {},
   "outputs": [],
   "source": [
    "desired_features = [feature for feature in features if \"mod\" not in feature]"
   ]
  },
  {
   "cell_type": "code",
   "execution_count": 16,
   "id": "a0801ec3",
   "metadata": {},
   "outputs": [],
   "source": [
    "desired_features = [feature for feature, val\n",
    "                    in lol[desired_features].corrwith(lol[\"t1_win\"]).sort_values(ascending=False).items()\n",
    "                    if abs(val) > .5]"
   ]
  },
  {
   "cell_type": "code",
   "execution_count": 17,
   "id": "53d731ff",
   "metadata": {},
   "outputs": [],
   "source": [
    "desired_features.remove(\"t1-t2_turretsLost\")\n",
    "desired_features.remove(\"t1-t2_inhibitorsLost\")"
   ]
  },
  {
   "cell_type": "code",
   "execution_count": 18,
   "id": "9e3f493c",
   "metadata": {},
   "outputs": [],
   "source": [
    "X = lol[desired_features]\n",
    "y = lol[\"t1_win\"]\n",
    "\n",
    "X_train, X_test, y_train, y_test = train_test_split(X, y, test_size=0.20, random_state=42)\n",
    "\n",
    "logreg = LogisticRegression(solver = \"liblinear\", random_state=42)\n",
    "ss = StandardScaler()\n",
    "\n",
    "Xs_train = ss.fit_transform(X_train)\n",
    "Xs_test = ss.transform(X_test)\n",
    "\n",
    "logreg.fit(Xs_train, y_train)\n",
    "lol[\"preds\"] = logreg.predict(X);"
   ]
  },
  {
   "cell_type": "code",
   "execution_count": 19,
   "id": "55e2c5e1",
   "metadata": {},
   "outputs": [
    {
     "name": "stdout",
     "output_type": "stream",
     "text": [
      "R2 Score: 96.701% ± 0.0172\n"
     ]
    }
   ],
   "source": [
    "scores = cross_val_score(logreg, X, y, cv=10, scoring=\"r2\", n_jobs=-1)\n",
    "\n",
    "print(f\"R2 Score: {scores.mean():.3%} ± {2 * scores.std():.3}\")"
   ]
  },
  {
   "cell_type": "code",
   "execution_count": 20,
   "id": "fdc5e8e3",
   "metadata": {},
   "outputs": [
    {
     "name": "stdout",
     "output_type": "stream",
     "text": [
      "The number of True Negatives is 8545\n",
      "The number of False Positives is 592\n",
      "The number of False Negatives is 728\n",
      "The number of True Positives is 7628\n"
     ]
    }
   ],
   "source": [
    "tn, fp, fn, tp = confusion_matrix(y, logreg.predict(X)).ravel()\n",
    "print(f\"The number of True Negatives is {tn}\\n\"\n",
    "      f\"The number of False Positives is {fp}\\n\"\n",
    "      f\"The number of False Negatives is {fn}\\n\"\n",
    "      f\"The number of True Positives is {tp}\")"
   ]
  },
  {
   "cell_type": "code",
   "execution_count": 21,
   "id": "e11b1fce",
   "metadata": {},
   "outputs": [
    {
     "data": {
      "image/png": "[encoded data removed]",
      "text/plain": [
       "<Figure size 540x540 with 1 Axes>"
      ]
     },
     "metadata": {},
     "output_type": "display_data"
    }
   ],
   "source": [
    "conf_matrix = confusion_matrix(y, logreg.predict(X))\n",
    "fig, ax = plt.subplots(figsize=(7.5, 7.5), facecolor=\"w\")\n",
    "ax.matshow(conf_matrix, cmap=plt.cm.Blues, alpha=0.3)\n",
    "for i in range(conf_matrix.shape[0]):\n",
    "    for j in range(conf_matrix.shape[1]):\n",
    "        ax.text(x=j, y=i,s=conf_matrix[i, j], va='center', ha='center', size='xx-large')\n",
    "\n",
    "plt.title('Confusion Matrix', fontsize=24)\n",
    "plt.xlabel('Predictions', fontsize=18)\n",
    "plt.ylabel('Actuals', fontsize=18);"
   ]
  },
  {
   "cell_type": "code",
   "execution_count": 22,
   "id": "7b48c403",
   "metadata": {},
   "outputs": [
    {
     "name": "stdout",
     "output_type": "stream",
     "text": [
      "F1 Score: 0.991 ± 0.00449\n",
      "R2 Score: 0.967 ± 0.0172\n",
      "\n",
      "Accuracy: 92.454%\n",
      "Precision: 92.798%\n",
      "Sensitivity 91.288%\n",
      "Recall: 91.288%\n"
     ]
    }
   ],
   "source": [
    "accuracy = (tp + tn) / len(y)\n",
    "precision = tp / (tp + fp)\n",
    "sensitivity = tp / (fn + tp)\n",
    "recall = tp / (tp + fn)\n",
    "\n",
    "f1 = cross_val_score(logreg, X, y, cv=10, scoring=\"f1\", n_jobs=-1)\n",
    "\n",
    "print(f\"F1 Score: {f1.mean():.3} ± {2 * f1.std():.3}\\n\"\n",
    "      f\"R2 Score: {scores.mean():.3} ± {2 * scores.std():.3}\"\n",
    "      \"\\n\\n\"\n",
    "      f\"Accuracy: {accuracy:.3%}\\n\"\n",
    "      f\"Precision: {precision:.3%}\\n\"\n",
    "      f\"Sensitivity {sensitivity:.3%}\\n\"\n",
    "      f\"Recall: {recall:.3%}\")"
   ]
  },
  {
   "cell_type": "markdown",
   "id": "c4e24487",
   "metadata": {},
   "source": [
    "## Interpretation\n",
    "----\n",
    "The second model actually performed worse than the first model despite having a higher R2 score.\n",
    "\n",
    "The False Positives and False Negatives actually rose signifigantly in the second model as the reduced complexity and bias in the dataset caused the noise in the data to have a larger effect in the modelling process."
   ]
  },
  {
   "cell_type": "markdown",
   "id": "62c5fd63",
   "metadata": {},
   "source": [
    "## Third Model - Reduce Noise\n",
    "----\n",
    "The only alteration in the third model will be to switch the standard columns for the modified columns which will prove that the modifications to the longer matches did in fact reduce the noise in the dataset.\n",
    "\n",
    "However, due to `t1-t2_total_physicalDamageDealtToChampions_mod` being over 0.5 correlation coefficient it will need to be dropped from the final feature selection as the data it represents is covered in total damage."
   ]
  },
  {
   "cell_type": "code",
   "execution_count": 23,
   "id": "488e80b1",
   "metadata": {},
   "outputs": [],
   "source": [
    "filter_features = [feature[:-4] for feature in features if \"mod\" in feature]"
   ]
  },
  {
   "cell_type": "code",
   "execution_count": 24,
   "id": "5b64ca85",
   "metadata": {},
   "outputs": [],
   "source": [
    "desired_features = [feature for feature in features if feature not in filter_features]"
   ]
  },
  {
   "cell_type": "code",
   "execution_count": 25,
   "id": "fd3812d8",
   "metadata": {},
   "outputs": [],
   "source": [
    "desired_features = [feature for feature, val\n",
    "                    in lol[desired_features].corrwith(lol[\"t1_win\"]).sort_values(ascending=False).items()\n",
    "                    if abs(val) > .5]"
   ]
  },
  {
   "cell_type": "code",
   "execution_count": 26,
   "id": "5f18a408",
   "metadata": {},
   "outputs": [],
   "source": [
    "desired_features.remove(\"t1-t2_turretsLost\")\n",
    "desired_features.remove(\"t1-t2_inhibitorsLost\")\n",
    "desired_features.remove(\"t1-t2_total_physicalDamageDealtToChampions_mod\")"
   ]
  },
  {
   "cell_type": "code",
   "execution_count": 27,
   "id": "b287fe37",
   "metadata": {},
   "outputs": [],
   "source": [
    "X = lol[desired_features]\n",
    "y = lol[\"t1_win\"]\n",
    "\n",
    "X_train, X_test, y_train, y_test = train_test_split(X, y, test_size=0.20, random_state=42)\n",
    "\n",
    "logreg = LogisticRegression(solver = \"liblinear\", random_state=42)\n",
    "ss = StandardScaler()\n",
    "\n",
    "Xs_train = ss.fit_transform(X_train)\n",
    "Xs_test = ss.transform(X_test)\n",
    "\n",
    "logreg.fit(Xs_train, y_train)\n",
    "lol[\"preds\"] = logreg.predict(X);"
   ]
  },
  {
   "cell_type": "code",
   "execution_count": 28,
   "id": "6638edad",
   "metadata": {},
   "outputs": [
    {
     "name": "stdout",
     "output_type": "stream",
     "text": [
      "R2 Score: 96.655% ± 0.0185\n"
     ]
    }
   ],
   "source": [
    "scores = cross_val_score(logreg, X, y, cv=10, scoring=\"r2\", n_jobs=-1)\n",
    "\n",
    "print(f\"R2 Score: {scores.mean():.3%} ± {2 * scores.std():.3}\")"
   ]
  },
  {
   "cell_type": "code",
   "execution_count": 29,
   "id": "0ba84dc7",
   "metadata": {},
   "outputs": [
    {
     "name": "stdout",
     "output_type": "stream",
     "text": [
      "The number of True Negatives is 8658\n",
      "The number of False Positives is 479\n",
      "The number of False Negatives is 608\n",
      "The number of True Positives is 7748\n"
     ]
    }
   ],
   "source": [
    "tn, fp, fn, tp = confusion_matrix(y, logreg.predict(X)).ravel()\n",
    "print(f\"The number of True Negatives is {tn}\\n\"\n",
    "      f\"The number of False Positives is {fp}\\n\"\n",
    "      f\"The number of False Negatives is {fn}\\n\"\n",
    "      f\"The number of True Positives is {tp}\")"
   ]
  },
  {
   "cell_type": "code",
   "execution_count": 30,
   "id": "22dcd191",
   "metadata": {},
   "outputs": [
    {
     "data": {
      "image/png": "[encoded data removed]",
      "text/plain": [
       "<Figure size 540x540 with 1 Axes>"
      ]
     },
     "metadata": {},
     "output_type": "display_data"
    }
   ],
   "source": [
    "conf_matrix = confusion_matrix(y, logreg.predict(X))\n",
    "fig, ax = plt.subplots(figsize=(7.5, 7.5), facecolor=\"w\")\n",
    "ax.matshow(conf_matrix, cmap=plt.cm.Blues, alpha=0.3)\n",
    "for i in range(conf_matrix.shape[0]):\n",
    "    for j in range(conf_matrix.shape[1]):\n",
    "        ax.text(x=j, y=i,s=conf_matrix[i, j], va='center', ha='center', size='xx-large')\n",
    "\n",
    "plt.title('Confusion Matrix', fontsize=24)\n",
    "plt.xlabel('Predictions', fontsize=18)\n",
    "plt.ylabel('Actuals', fontsize=18);"
   ]
  },
  {
   "cell_type": "code",
   "execution_count": 31,
   "id": "586ddfb0",
   "metadata": {},
   "outputs": [
    {
     "name": "stdout",
     "output_type": "stream",
     "text": [
      "F1 Score: 0.991 ± 0.00483\n",
      "R2 Score: 0.967 ± 0.0185\n",
      "\n",
      "Accuracy: 93.786%\n",
      "Precision: 94.178%\n",
      "Sensitivity 92.724%\n",
      "Recall: 92.724%\n"
     ]
    }
   ],
   "source": [
    "accuracy = (tp + tn) / len(y)\n",
    "precision = tp / (tp + fp)\n",
    "sensitivity = tp / (fn + tp)\n",
    "recall = tp / (tp + fn)\n",
    "\n",
    "f1 = cross_val_score(logreg, X, y, cv=10, scoring=\"f1\", n_jobs=-1)\n",
    "\n",
    "print(f\"F1 Score: {f1.mean():.3} ± {2 * f1.std():.3}\\n\"\n",
    "      f\"R2 Score: {scores.mean():.3} ± {2 * scores.std():.3}\"\n",
    "      \"\\n\\n\"\n",
    "      f\"Accuracy: {accuracy:.3%}\\n\"\n",
    "      f\"Precision: {precision:.3%}\\n\"\n",
    "      f\"Sensitivity {sensitivity:.3%}\\n\"\n",
    "      f\"Recall: {recall:.3%}\")"
   ]
  },
  {
   "cell_type": "code",
   "execution_count": 32,
   "id": "83f38836",
   "metadata": {},
   "outputs": [
    {
     "data": {
      "image/png": "[encoded data removed]",
      "text/plain": [
       "<Figure size 576x432 with 1 Axes>"
      ]
     },
     "metadata": {},
     "output_type": "display_data"
    }
   ],
   "source": [
    "#calculate y_train fpr, tpr and thresholds\n",
    "y_train_score = logreg.decision_function(X_train)\n",
    "train_fpr, train_tpr, thresholds = roc_curve(y_train, y_train_score)\n",
    "\n",
    "#calculate y_test fpr, tpr and thresholds\n",
    "y_test_score = logreg.decision_function(X_test)\n",
    "test_fpr, test_tpr, test_thresholds = roc_curve(y_test, y_test_score)\n",
    "\n",
    "#plot\n",
    "plt.figure(figsize=(8,6), facecolor=\"w\")\n",
    "plt.plot(test_fpr, test_tpr, color='darkorange', label='ROC curve')\n",
    "plt.plot(np.linspace(0,1), np.linspace(0,1), color=\"b\", linestyle='dotted')\n",
    "\n",
    "plt.title(\"ROC Curve compared to 50/50 Threshold\", size=24)\n",
    "plt.xlabel(\"Test False Positive Rate\", size=14)\n",
    "plt.ylabel(\"Test True Positive Rate\", size=14);"
   ]
  },
  {
   "cell_type": "markdown",
   "id": "9eb66268",
   "metadata": {},
   "source": [
    "## Interpretation\n",
    "----\n",
    "By reducing complexity (Model 2) and noise (Model 3) the third model is outperforming both preliminary models.\n",
    "\n",
    "All metrics show a very strong model which can accurately predict if a team won or lost a match based on the stats within the game. Maintaining over 90% scores in R2 and F1 support the conclusion that the model is not overfit and will function extremely well on future data.\n",
    "\n",
    "Sadly, despite the improvements to the model the ROC curve still looks basically the same as it did at the onset."
   ]
  },
  {
   "cell_type": "code",
   "execution_count": 33,
   "id": "ef751f2b",
   "metadata": {},
   "outputs": [],
   "source": [
    "X = lol[desired_features]\n",
    "y = lol[\"t1_win\"]\n",
    "\n",
    "X_train, X_test, y_train, y_test = train_test_split(X, y, test_size=0.20, random_state=42)\n",
    "\n",
    "logreg = LogisticRegression(solver = \"liblinear\", random_state=42)\n",
    "ss = StandardScaler()\n",
    "\n",
    "Xs_train = ss.fit_transform(X_train)\n",
    "Xs_test = ss.transform(X_test)\n",
    "\n",
    "logreg.fit(Xs_train, y_train)\n",
    "lol[\"preds\"] = logreg.predict(X);"
   ]
  },
  {
   "cell_type": "markdown",
   "id": "d8ad77a4",
   "metadata": {},
   "source": [
    "## PCA\n",
    "----\n",
    "These values are all highly correlated to each other and one of the most useful techniques in Data Science for simplifying features is called PCA. PCA is a linear dimensionality reduction technique that transforms a set of correlated variables into a smaller k number of uncorrelated variables called principal components. The principal components retain as much of the original variation as possile while removing some of the noise from the dataset.\n",
    "\n",
    "The most important step in using PCA is to examine how many principal components should be used in the final set. A simple way to do this is to plot the explained variance to the number of prinicpal components."
   ]
  },
  {
   "cell_type": "code",
   "execution_count": 34,
   "id": "df733fb4",
   "metadata": {},
   "outputs": [
    {
     "name": "stdout",
     "output_type": "stream",
     "text": [
      "Eigenvalues:\n",
      "['1: 1.5e+01', '2: 1.1', '3: 0.75', '4: 0.68', '5: 0.65', '6: 0.56', '7: 0.49', '8: 0.45', '9: 0.41', '10: 0.38', '11: 0.34', '12: 0.29', '13: 0.22', '14: 0.17', '15: 0.13', '16: 0.11', '17: 0.098', '18: 0.084', '19: 0.052', '20: 0.036', '21: 0.024', '22: 0.016'] \n",
      "\n",
      "Variances (Percentage):\n",
      "['1: 67.89%', '2: 5.04%', '3: 3.41%', '4: 3.07%', '5: 2.96%', '6: 2.56%', '7: 2.22%', '8: 2.05%', '9: 1.85%', '10: 1.75%', '11: 1.56%', '12: 1.34%', '13: 1.00%', '14: 0.78%', '15: 0.59%', '16: 0.52%', '17: 0.45%', '18: 0.38%', '19: 0.23%', '20: 0.16%', '21: 0.11%', '22: 0.07%']\n"
     ]
    },
    {
     "data": {
      "image/png": "[encoded data removed]",
      "text/plain": [
       "<Figure size 504x504 with 1 Axes>"
      ]
     },
     "metadata": {},
     "output_type": "display_data"
    }
   ],
   "source": [
    "X = lol[desired_features]\n",
    "\n",
    "ss = StandardScaler()\n",
    "Xs = ss.fit_transform(X)\n",
    "\n",
    "pca = PCA()\n",
    "pca.fit(Xs)\n",
    "\n",
    "# print the eigenvalues\n",
    "print(\"Eigenvalues:\")\n",
    "print([f\"{i+1}: {val:.2}\" for i, val in enumerate(pca.explained_variance_)],\"\\n\")\n",
    "\n",
    "# print explained variance\n",
    "print(\"Variances (Percentage):\")\n",
    "print([f\"{i+1}: {val:.2%}\" for i, val in enumerate(pca.explained_variance_ratio_)])\n",
    "\n",
    "plt.figure(figsize=(7,7), facecolor=\"w\")\n",
    "\n",
    "plt.plot(np.cumsum(pca.explained_variance_ratio_ * 100))\n",
    "\n",
    "plt.title(\"Number of Principal Components to Explained Variance\")\n",
    "plt.xlabel(\"Number of Components/Dimmensions\", size=14)\n",
    "plt.ylabel(\"Percent Explained Variance\", size=14);"
   ]
  },
  {
   "cell_type": "code",
   "execution_count": 35,
   "id": "90d35592",
   "metadata": {},
   "outputs": [
    {
     "data": {
      "text/html": [
       "<div>\n",
       "<style scoped>\n",
       "    .dataframe tbody tr th:only-of-type {\n",
       "        vertical-align: middle;\n",
       "    }\n",
       "\n",
       "    .dataframe tbody tr th {\n",
       "        vertical-align: top;\n",
       "    }\n",
       "\n",
       "    .dataframe thead th {\n",
       "        text-align: right;\n",
       "    }\n",
       "</style>\n",
       "<table border=\"1\" class=\"dataframe\">\n",
       "  <thead>\n",
       "    <tr style=\"text-align: right;\">\n",
       "      <th></th>\n",
       "      <th>percent explained</th>\n",
       "    </tr>\n",
       "  </thead>\n",
       "  <tbody>\n",
       "    <tr>\n",
       "      <th>1</th>\n",
       "      <td>67.89%</td>\n",
       "    </tr>\n",
       "    <tr>\n",
       "      <th>2</th>\n",
       "      <td>72.93%</td>\n",
       "    </tr>\n",
       "    <tr>\n",
       "      <th>3</th>\n",
       "      <td>76.33%</td>\n",
       "    </tr>\n",
       "    <tr>\n",
       "      <th>4</th>\n",
       "      <td>79.41%</td>\n",
       "    </tr>\n",
       "    <tr>\n",
       "      <th>5</th>\n",
       "      <td>82.37%</td>\n",
       "    </tr>\n",
       "    <tr>\n",
       "      <th>6</th>\n",
       "      <td>84.93%</td>\n",
       "    </tr>\n",
       "    <tr>\n",
       "      <th>7</th>\n",
       "      <td>87.16%</td>\n",
       "    </tr>\n",
       "    <tr>\n",
       "      <th>8</th>\n",
       "      <td>89.20%</td>\n",
       "    </tr>\n",
       "    <tr>\n",
       "      <th>9</th>\n",
       "      <td>91.06%</td>\n",
       "    </tr>\n",
       "    <tr>\n",
       "      <th>10</th>\n",
       "      <td>92.81%</td>\n",
       "    </tr>\n",
       "    <tr>\n",
       "      <th>11</th>\n",
       "      <td>94.37%</td>\n",
       "    </tr>\n",
       "    <tr>\n",
       "      <th>12</th>\n",
       "      <td>95.70%</td>\n",
       "    </tr>\n",
       "    <tr>\n",
       "      <th>13</th>\n",
       "      <td>96.70%</td>\n",
       "    </tr>\n",
       "    <tr>\n",
       "      <th>14</th>\n",
       "      <td>97.48%</td>\n",
       "    </tr>\n",
       "    <tr>\n",
       "      <th>15</th>\n",
       "      <td>98.07%</td>\n",
       "    </tr>\n",
       "    <tr>\n",
       "      <th>16</th>\n",
       "      <td>98.59%</td>\n",
       "    </tr>\n",
       "    <tr>\n",
       "      <th>17</th>\n",
       "      <td>99.04%</td>\n",
       "    </tr>\n",
       "    <tr>\n",
       "      <th>18</th>\n",
       "      <td>99.42%</td>\n",
       "    </tr>\n",
       "    <tr>\n",
       "      <th>19</th>\n",
       "      <td>99.65%</td>\n",
       "    </tr>\n",
       "    <tr>\n",
       "      <th>20</th>\n",
       "      <td>99.82%</td>\n",
       "    </tr>\n",
       "    <tr>\n",
       "      <th>21</th>\n",
       "      <td>99.93%</td>\n",
       "    </tr>\n",
       "    <tr>\n",
       "      <th>22</th>\n",
       "      <td>100.00%</td>\n",
       "    </tr>\n",
       "  </tbody>\n",
       "</table>\n",
       "</div>"
      ],
      "text/plain": [
       "   percent explained\n",
       "1             67.89%\n",
       "2             72.93%\n",
       "3             76.33%\n",
       "4             79.41%\n",
       "5             82.37%\n",
       "6             84.93%\n",
       "7             87.16%\n",
       "8             89.20%\n",
       "9             91.06%\n",
       "10            92.81%\n",
       "11            94.37%\n",
       "12            95.70%\n",
       "13            96.70%\n",
       "14            97.48%\n",
       "15            98.07%\n",
       "16            98.59%\n",
       "17            99.04%\n",
       "18            99.42%\n",
       "19            99.65%\n",
       "20            99.82%\n",
       "21            99.93%\n",
       "22           100.00%"
      ]
     },
     "execution_count": 35,
     "metadata": {},
     "output_type": "execute_result"
    }
   ],
   "source": [
    "data = [f\"{val:.2%}\" for i, val in enumerate(np.cumsum(pca.explained_variance_ratio_))]\n",
    "pd.DataFrame(data, columns=[\"percent explained\"], index=range(1, len(data) + 1))"
   ]
  },
  {
   "cell_type": "markdown",
   "id": "a87d255c",
   "metadata": {},
   "source": [
    "## Interpretation\n",
    "----\n",
    "Based on the above information the vast majority of the data can be explained by less than half of the feature set. The question becomes were to draw the line?\n",
    "\n",
    "Is keeping the simplicity of 8 Principal Components with reduced noise explaining 89.2% of the data the best option or is 11 Princpipal Components explaining 94.37% of the data the better option?\n",
    "\n",
    "I am inclined to feel that adding 3 principal components to gain 6% explainatory value to reach 94% of total of 94% of the data explained is the best option but let's test this feeling."
   ]
  },
  {
   "cell_type": "markdown",
   "id": "babab9ac",
   "metadata": {},
   "source": [
    "## 8 Principal Compentents\n",
    "----"
   ]
  },
  {
   "cell_type": "code",
   "execution_count": 36,
   "id": "9b968f2c",
   "metadata": {},
   "outputs": [],
   "source": [
    "X = lol[desired_features]\n",
    "\n",
    "ss = StandardScaler()\n",
    "Xs = ss.fit_transform(X)\n",
    "\n",
    "#limit to the first 8 principal components\n",
    "pca = PCA(n_components=8)\n",
    "X_pca = pca.fit_transform(Xs)\n",
    "\n",
    "# Transformed X dataset\n",
    "X_pca = pd.DataFrame(X_pca)"
   ]
  },
  {
   "cell_type": "code",
   "execution_count": 37,
   "id": "9cd0700b",
   "metadata": {},
   "outputs": [
    {
     "data": {
      "text/html": [
       "<div>\n",
       "<style scoped>\n",
       "    .dataframe tbody tr th:only-of-type {\n",
       "        vertical-align: middle;\n",
       "    }\n",
       "\n",
       "    .dataframe tbody tr th {\n",
       "        vertical-align: top;\n",
       "    }\n",
       "\n",
       "    .dataframe thead th {\n",
       "        text-align: right;\n",
       "    }\n",
       "</style>\n",
       "<table border=\"1\" class=\"dataframe\">\n",
       "  <thead>\n",
       "    <tr style=\"text-align: right;\">\n",
       "      <th></th>\n",
       "      <th>0</th>\n",
       "      <th>1</th>\n",
       "      <th>2</th>\n",
       "      <th>3</th>\n",
       "      <th>4</th>\n",
       "      <th>5</th>\n",
       "      <th>6</th>\n",
       "      <th>7</th>\n",
       "    </tr>\n",
       "  </thead>\n",
       "  <tbody>\n",
       "    <tr>\n",
       "      <th>0</th>\n",
       "      <td>4.869729</td>\n",
       "      <td>0.227177</td>\n",
       "      <td>0.690883</td>\n",
       "      <td>-0.571447</td>\n",
       "      <td>0.359240</td>\n",
       "      <td>-0.488912</td>\n",
       "      <td>-0.671657</td>\n",
       "      <td>0.347594</td>\n",
       "    </tr>\n",
       "    <tr>\n",
       "      <th>1</th>\n",
       "      <td>2.541356</td>\n",
       "      <td>1.153108</td>\n",
       "      <td>-0.801533</td>\n",
       "      <td>-0.663847</td>\n",
       "      <td>1.169507</td>\n",
       "      <td>-0.163902</td>\n",
       "      <td>0.035260</td>\n",
       "      <td>0.027966</td>\n",
       "    </tr>\n",
       "    <tr>\n",
       "      <th>2</th>\n",
       "      <td>-4.230105</td>\n",
       "      <td>-0.494090</td>\n",
       "      <td>-1.047297</td>\n",
       "      <td>1.671581</td>\n",
       "      <td>-0.357408</td>\n",
       "      <td>0.740201</td>\n",
       "      <td>-0.332312</td>\n",
       "      <td>1.356922</td>\n",
       "    </tr>\n",
       "    <tr>\n",
       "      <th>3</th>\n",
       "      <td>5.311851</td>\n",
       "      <td>0.180369</td>\n",
       "      <td>0.259644</td>\n",
       "      <td>-0.234461</td>\n",
       "      <td>-0.675922</td>\n",
       "      <td>0.152316</td>\n",
       "      <td>0.416799</td>\n",
       "      <td>0.832220</td>\n",
       "    </tr>\n",
       "    <tr>\n",
       "      <th>4</th>\n",
       "      <td>4.343572</td>\n",
       "      <td>-0.963517</td>\n",
       "      <td>-0.302443</td>\n",
       "      <td>1.161295</td>\n",
       "      <td>-0.059593</td>\n",
       "      <td>-0.729214</td>\n",
       "      <td>-0.379986</td>\n",
       "      <td>-0.128979</td>\n",
       "    </tr>\n",
       "  </tbody>\n",
       "</table>\n",
       "</div>"
      ],
      "text/plain": [
       "          0         1         2         3         4         5         6  \\\n",
       "0  4.869729  0.227177  0.690883 -0.571447  0.359240 -0.488912 -0.671657   \n",
       "1  2.541356  1.153108 -0.801533 -0.663847  1.169507 -0.163902  0.035260   \n",
       "2 -4.230105 -0.494090 -1.047297  1.671581 -0.357408  0.740201 -0.332312   \n",
       "3  5.311851  0.180369  0.259644 -0.234461 -0.675922  0.152316  0.416799   \n",
       "4  4.343572 -0.963517 -0.302443  1.161295 -0.059593 -0.729214 -0.379986   \n",
       "\n",
       "          7  \n",
       "0  0.347594  \n",
       "1  0.027966  \n",
       "2  1.356922  \n",
       "3  0.832220  \n",
       "4 -0.128979  "
      ]
     },
     "execution_count": 37,
     "metadata": {},
     "output_type": "execute_result"
    }
   ],
   "source": [
    "X_pca.head()"
   ]
  },
  {
   "cell_type": "markdown",
   "id": "d4d2c330",
   "metadata": {},
   "source": [
    "#### PCA Logistic Regression, 8 PC's"
   ]
  },
  {
   "cell_type": "code",
   "execution_count": 38,
   "id": "76298a34",
   "metadata": {},
   "outputs": [
    {
     "data": {
      "text/plain": [
       "LogisticRegression(random_state=42, solver='liblinear')"
      ]
     },
     "execution_count": 38,
     "metadata": {},
     "output_type": "execute_result"
    }
   ],
   "source": [
    "y = lol[\"t1_win\"]\n",
    "\n",
    "X_train, X_test, y_train, y_test = train_test_split(X_pca, y, test_size=0.20, random_state=42)\n",
    "\n",
    "logreg = LogisticRegression(solver = \"liblinear\", random_state=42)\n",
    "ss = StandardScaler()\n",
    "\n",
    "Xs_train = ss.fit_transform(X_train)\n",
    "Xs_test = ss.transform(X_test)\n",
    "\n",
    "logreg.fit(Xs_train, y_train)"
   ]
  },
  {
   "cell_type": "code",
   "execution_count": 39,
   "id": "16a4c816",
   "metadata": {},
   "outputs": [
    {
     "name": "stdout",
     "output_type": "stream",
     "text": [
      "R2 Score: 94.570% ± 0.0202\n"
     ]
    }
   ],
   "source": [
    "scores = cross_val_score(logreg, X_pca, y, cv=10, scoring=\"r2\", n_jobs=-1)\n",
    "\n",
    "print(f\"R2 Score: {scores.mean():.3%} ± {2 * scores.std():.3}\")"
   ]
  },
  {
   "cell_type": "code",
   "execution_count": 40,
   "id": "540b0ef0",
   "metadata": {},
   "outputs": [
    {
     "name": "stdout",
     "output_type": "stream",
     "text": [
      "The number of True Negatives is 8929\n",
      "The number of False Positives is 208\n",
      "The number of False Negatives is 160\n",
      "The number of True Positives is 8196\n"
     ]
    }
   ],
   "source": [
    "tn, fp, fn, tp = confusion_matrix(y, logreg.predict(X_pca)).ravel()\n",
    "print(f\"The number of True Negatives is {tn}\\n\"\n",
    "      f\"The number of False Positives is {fp}\\n\"\n",
    "      f\"The number of False Negatives is {fn}\\n\"\n",
    "      f\"The number of True Positives is {tp}\")"
   ]
  },
  {
   "cell_type": "code",
   "execution_count": 41,
   "id": "c43e319b",
   "metadata": {},
   "outputs": [
    {
     "data": {
      "image/png": "[encoded data removed]",
      "text/plain": [
       "<Figure size 540x540 with 1 Axes>"
      ]
     },
     "metadata": {},
     "output_type": "display_data"
    }
   ],
   "source": [
    "conf_matrix = confusion_matrix(y, logreg.predict(X_pca))\n",
    "fig, ax = plt.subplots(figsize=(7.5, 7.5), facecolor=\"w\")\n",
    "ax.matshow(conf_matrix, cmap=plt.cm.Blues, alpha=0.3)\n",
    "for i in range(conf_matrix.shape[0]):\n",
    "    for j in range(conf_matrix.shape[1]):\n",
    "        ax.text(x=j, y=i,s=conf_matrix[i, j], va='center', ha='center', size='xx-large')\n",
    "\n",
    "plt.title('Confusion Matrix', fontsize=24)\n",
    "plt.xlabel('Predictions', fontsize=18)\n",
    "plt.ylabel('Actuals', fontsize=18);"
   ]
  },
  {
   "cell_type": "code",
   "execution_count": 42,
   "id": "3e105e51",
   "metadata": {},
   "outputs": [
    {
     "name": "stdout",
     "output_type": "stream",
     "text": [
      "F1 Score: 0.986 ± 0.00527\n",
      "R2 Score: 0.946 ± 0.0202\n",
      "\n",
      "Accuracy: 97.896%\n",
      "Precision: 97.525%\n",
      "Sensitivity 98.085%\n",
      "Recall: 98.085%\n"
     ]
    }
   ],
   "source": [
    "accuracy = (tp + tn) / len(y)\n",
    "precision = tp / (tp + fp)\n",
    "sensitivity = tp / (fn + tp)\n",
    "recall = tp / (tp + fn)\n",
    "\n",
    "f1 = cross_val_score(logreg, X_pca, y, cv=10, scoring=\"f1\", n_jobs=-1)\n",
    "\n",
    "print(f\"F1 Score: {f1.mean():.3} ± {2 * f1.std():.3}\\n\"\n",
    "      f\"R2 Score: {scores.mean():.3} ± {2 * scores.std():.3}\"\n",
    "      \"\\n\\n\"\n",
    "      f\"Accuracy: {accuracy:.3%}\\n\"\n",
    "      f\"Precision: {precision:.3%}\\n\"\n",
    "      f\"Sensitivity {sensitivity:.3%}\\n\"\n",
    "      f\"Recall: {recall:.3%}\")"
   ]
  },
  {
   "cell_type": "markdown",
   "id": "886199b0",
   "metadata": {},
   "source": [
    "## Interpretation\n",
    "----\n",
    "While the R2 Score actually decreased the remaining scores actually increased drastically around the board. The amount of False Positives and False Negatives dropped over 50% making a far superior model."
   ]
  },
  {
   "cell_type": "markdown",
   "id": "99d2729f",
   "metadata": {},
   "source": [
    "## 11 Principal Compentents\n",
    "----"
   ]
  },
  {
   "cell_type": "code",
   "execution_count": 43,
   "id": "c7dad367",
   "metadata": {},
   "outputs": [],
   "source": [
    "X = lol[desired_features]\n",
    "\n",
    "ss = StandardScaler()\n",
    "Xs = ss.fit_transform(X)\n",
    "\n",
    "#limit to the first 8 principal components\n",
    "pca = PCA(n_components=11)\n",
    "X_pca = pca.fit_transform(Xs)\n",
    "\n",
    "# Transformed X dataset\n",
    "X_pca = pd.DataFrame(X_pca)"
   ]
  },
  {
   "cell_type": "code",
   "execution_count": 44,
   "id": "274f34e0",
   "metadata": {},
   "outputs": [
    {
     "data": {
      "text/html": [
       "<div>\n",
       "<style scoped>\n",
       "    .dataframe tbody tr th:only-of-type {\n",
       "        vertical-align: middle;\n",
       "    }\n",
       "\n",
       "    .dataframe tbody tr th {\n",
       "        vertical-align: top;\n",
       "    }\n",
       "\n",
       "    .dataframe thead th {\n",
       "        text-align: right;\n",
       "    }\n",
       "</style>\n",
       "<table border=\"1\" class=\"dataframe\">\n",
       "  <thead>\n",
       "    <tr style=\"text-align: right;\">\n",
       "      <th></th>\n",
       "      <th>0</th>\n",
       "      <th>1</th>\n",
       "      <th>2</th>\n",
       "      <th>3</th>\n",
       "      <th>4</th>\n",
       "      <th>5</th>\n",
       "      <th>6</th>\n",
       "      <th>7</th>\n",
       "      <th>8</th>\n",
       "      <th>9</th>\n",
       "      <th>10</th>\n",
       "    </tr>\n",
       "  </thead>\n",
       "  <tbody>\n",
       "    <tr>\n",
       "      <th>0</th>\n",
       "      <td>4.869729</td>\n",
       "      <td>0.227178</td>\n",
       "      <td>0.690883</td>\n",
       "      <td>-0.571445</td>\n",
       "      <td>0.359243</td>\n",
       "      <td>-0.488919</td>\n",
       "      <td>-0.671672</td>\n",
       "      <td>0.347593</td>\n",
       "      <td>-0.441342</td>\n",
       "      <td>-0.243447</td>\n",
       "      <td>-0.828552</td>\n",
       "    </tr>\n",
       "    <tr>\n",
       "      <th>1</th>\n",
       "      <td>2.541356</td>\n",
       "      <td>1.153108</td>\n",
       "      <td>-0.801532</td>\n",
       "      <td>-0.663846</td>\n",
       "      <td>1.169509</td>\n",
       "      <td>-0.163907</td>\n",
       "      <td>0.035251</td>\n",
       "      <td>0.027961</td>\n",
       "      <td>0.047310</td>\n",
       "      <td>0.444389</td>\n",
       "      <td>0.074306</td>\n",
       "    </tr>\n",
       "    <tr>\n",
       "      <th>2</th>\n",
       "      <td>-4.230105</td>\n",
       "      <td>-0.494090</td>\n",
       "      <td>-1.047296</td>\n",
       "      <td>1.671580</td>\n",
       "      <td>-0.357409</td>\n",
       "      <td>0.740204</td>\n",
       "      <td>-0.332306</td>\n",
       "      <td>1.356919</td>\n",
       "      <td>1.078845</td>\n",
       "      <td>0.017467</td>\n",
       "      <td>0.691810</td>\n",
       "    </tr>\n",
       "    <tr>\n",
       "      <th>3</th>\n",
       "      <td>5.311851</td>\n",
       "      <td>0.180370</td>\n",
       "      <td>0.259644</td>\n",
       "      <td>-0.234460</td>\n",
       "      <td>-0.675921</td>\n",
       "      <td>0.152313</td>\n",
       "      <td>0.416793</td>\n",
       "      <td>0.832222</td>\n",
       "      <td>0.174131</td>\n",
       "      <td>-0.413841</td>\n",
       "      <td>-0.175888</td>\n",
       "    </tr>\n",
       "    <tr>\n",
       "      <th>4</th>\n",
       "      <td>4.343572</td>\n",
       "      <td>-0.963513</td>\n",
       "      <td>-0.302442</td>\n",
       "      <td>1.161301</td>\n",
       "      <td>-0.059580</td>\n",
       "      <td>-0.729254</td>\n",
       "      <td>-0.380062</td>\n",
       "      <td>-0.128996</td>\n",
       "      <td>-0.070041</td>\n",
       "      <td>0.915508</td>\n",
       "      <td>1.062145</td>\n",
       "    </tr>\n",
       "  </tbody>\n",
       "</table>\n",
       "</div>"
      ],
      "text/plain": [
       "         0         1         2         3         4         5         6   \\\n",
       "0  4.869729  0.227178  0.690883 -0.571445  0.359243 -0.488919 -0.671672   \n",
       "1  2.541356  1.153108 -0.801532 -0.663846  1.169509 -0.163907  0.035251   \n",
       "2 -4.230105 -0.494090 -1.047296  1.671580 -0.357409  0.740204 -0.332306   \n",
       "3  5.311851  0.180370  0.259644 -0.234460 -0.675921  0.152313  0.416793   \n",
       "4  4.343572 -0.963513 -0.302442  1.161301 -0.059580 -0.729254 -0.380062   \n",
       "\n",
       "         7         8         9         10  \n",
       "0  0.347593 -0.441342 -0.243447 -0.828552  \n",
       "1  0.027961  0.047310  0.444389  0.074306  \n",
       "2  1.356919  1.078845  0.017467  0.691810  \n",
       "3  0.832222  0.174131 -0.413841 -0.175888  \n",
       "4 -0.128996 -0.070041  0.915508  1.062145  "
      ]
     },
     "execution_count": 44,
     "metadata": {},
     "output_type": "execute_result"
    }
   ],
   "source": [
    "X_pca.head()"
   ]
  },
  {
   "cell_type": "markdown",
   "id": "e75ece61",
   "metadata": {},
   "source": [
    "#### PCA Logistic Regression, 8 PC's"
   ]
  },
  {
   "cell_type": "code",
   "execution_count": 45,
   "id": "95686c21",
   "metadata": {},
   "outputs": [
    {
     "data": {
      "text/plain": [
       "LogisticRegression(random_state=42, solver='liblinear')"
      ]
     },
     "execution_count": 45,
     "metadata": {},
     "output_type": "execute_result"
    }
   ],
   "source": [
    "y = lol[\"t1_win\"]\n",
    "\n",
    "X_train, X_test, y_train, y_test = train_test_split(X_pca, y, test_size=0.20, random_state=42)\n",
    "\n",
    "logreg = LogisticRegression(solver = \"liblinear\", random_state=42)\n",
    "ss = StandardScaler()\n",
    "\n",
    "Xs_train = ss.fit_transform(X_train)\n",
    "Xs_test = ss.transform(X_test)\n",
    "\n",
    "logreg.fit(Xs_train, y_train)"
   ]
  },
  {
   "cell_type": "code",
   "execution_count": 46,
   "id": "096fc296",
   "metadata": {},
   "outputs": [
    {
     "name": "stdout",
     "output_type": "stream",
     "text": [
      "R2 Score: 96.403% ± 0.0165\n"
     ]
    }
   ],
   "source": [
    "scores = cross_val_score(logreg, X_pca, y, cv=10, scoring=\"r2\", n_jobs=-1)\n",
    "\n",
    "print(f\"R2 Score: {scores.mean():.3%} ± {2 * scores.std():.3}\")"
   ]
  },
  {
   "cell_type": "code",
   "execution_count": 47,
   "id": "ff3a8fc4",
   "metadata": {},
   "outputs": [
    {
     "name": "stdout",
     "output_type": "stream",
     "text": [
      "The number of True Negatives is 8946\n",
      "The number of False Positives is 191\n",
      "The number of False Negatives is 145\n",
      "The number of True Positives is 8211\n"
     ]
    }
   ],
   "source": [
    "tn, fp, fn, tp = confusion_matrix(y, logreg.predict(X_pca)).ravel()\n",
    "print(f\"The number of True Negatives is {tn}\\n\"\n",
    "      f\"The number of False Positives is {fp}\\n\"\n",
    "      f\"The number of False Negatives is {fn}\\n\"\n",
    "      f\"The number of True Positives is {tp}\")"
   ]
  },
  {
   "cell_type": "code",
   "execution_count": 48,
   "id": "44f50c54",
   "metadata": {},
   "outputs": [
    {
     "data": {
      "image/png": "[encoded data removed]",
      "text/plain": [
       "<Figure size 540x540 with 1 Axes>"
      ]
     },
     "metadata": {},
     "output_type": "display_data"
    }
   ],
   "source": [
    "conf_matrix = confusion_matrix(y, logreg.predict(X_pca))\n",
    "fig, ax = plt.subplots(figsize=(7.5, 7.5), facecolor=\"w\")\n",
    "ax.matshow(conf_matrix, cmap=plt.cm.Blues, alpha=0.3)\n",
    "for i in range(conf_matrix.shape[0]):\n",
    "    for j in range(conf_matrix.shape[1]):\n",
    "        ax.text(x=j, y=i,s=conf_matrix[i, j], va='center', ha='center', size='xx-large')\n",
    "\n",
    "plt.title('Confusion Matrix', fontsize=24)\n",
    "plt.xlabel('Predictions', fontsize=18)\n",
    "plt.ylabel('Actuals', fontsize=18);"
   ]
  },
  {
   "cell_type": "code",
   "execution_count": 49,
   "id": "81837132",
   "metadata": {},
   "outputs": [
    {
     "name": "stdout",
     "output_type": "stream",
     "text": [
      "F1 Score: 0.991 ± 0.00431\n",
      "R2 Score: 0.964 ± 0.0165\n",
      "\n",
      "Accuracy: 98.079%\n",
      "Precision: 97.727%\n",
      "Sensitivity 98.265%\n",
      "Recall: 98.265%\n"
     ]
    }
   ],
   "source": [
    "accuracy = (tp + tn) / len(y)\n",
    "precision = tp / (tp + fp)\n",
    "sensitivity = tp / (fn + tp)\n",
    "recall = tp / (tp + fn)\n",
    "\n",
    "f1 = cross_val_score(logreg, X_pca, y, cv=10, scoring=\"f1\", n_jobs=-1)\n",
    "\n",
    "print(f\"F1 Score: {f1.mean():.3} ± {2 * f1.std():.3}\\n\"\n",
    "      f\"R2 Score: {scores.mean():.3} ± {2 * scores.std():.3}\"\n",
    "      \"\\n\\n\"\n",
    "      f\"Accuracy: {accuracy:.3%}\\n\"\n",
    "      f\"Precision: {precision:.3%}\\n\"\n",
    "      f\"Sensitivity {sensitivity:.3%}\\n\"\n",
    "      f\"Recall: {recall:.3%}\")"
   ]
  },
  {
   "cell_type": "markdown",
   "id": "e5edd42a",
   "metadata": {},
   "source": [
    "### Interpretation\n",
    "----\n",
    "These high scores are generally red flags for an overfit model. However with a 10 folds in an 80:20 split if the model was overfit the 95% Confidence Interval wouldn't be within 1-2%.\n",
    "\n",
    "I went into this project trying to ensure that I pushed EDA, Feature Engineering and Feature Selection to the max and these scores imply that I was successful.\n",
    "\n",
    "The best way to test this would be to grab all new data and see what happens but that will be a project for another time."
   ]
  },
  {
   "cell_type": "code",
   "execution_count": 50,
   "id": "f4b242b6",
   "metadata": {},
   "outputs": [
    {
     "data": {
      "image/png": "[encoded data removed]",
      "text/plain": [
       "<Figure size 576x432 with 1 Axes>"
      ]
     },
     "metadata": {},
     "output_type": "display_data"
    }
   ],
   "source": [
    "#calculate y_train fpr, tpr and thresholds\n",
    "y_train_score = logreg.decision_function(X_train)\n",
    "train_fpr, train_tpr, thresholds = roc_curve(y_train, y_train_score)\n",
    "\n",
    "#calculate y_test fpr, tpr and thresholds\n",
    "y_test_score = logreg.decision_function(X_test)\n",
    "test_fpr, test_tpr, test_thresholds = roc_curve(y_test, y_test_score)\n",
    "\n",
    "#plot\n",
    "plt.figure(figsize=(8,6), facecolor=\"w\")\n",
    "plt.plot(test_fpr, test_tpr, color='darkorange', label='ROC curve')\n",
    "plt.plot(np.linspace(0,1), np.linspace(0,1), color=\"b\", linestyle='dotted');"
   ]
  },
  {
   "cell_type": "markdown",
   "id": "95ca6c1a",
   "metadata": {},
   "source": [
    "## Interpretation\n",
    "----\n",
    "There's very little difference between the two PCA Models but the second model did perform slightly better on all metrics.\n",
    "\n",
    "This is not expected at first because the False Positives increased but this is explained by the total number of True Positives also increasing. As such the only way in which this model is weaker than the 8 Princicpal Component model is actually offset by the fact the actual true predictions increased.\n",
    "\n",
    "Finally, the ROC Curve is also about as close to a right angle as possible which visually confirms the model is a near perfect classifier"
   ]
  },
  {
   "cell_type": "markdown",
   "id": "c8cb83be",
   "metadata": {},
   "source": [
    "# Conclusions and Insights\n",
    "----\n",
    "League of Legends is a complicated game with a large amount of variables. Despite this complexity there are some clear rules to predicting success in the game."
   ]
  },
  {
   "cell_type": "markdown",
   "id": "dc8ba223",
   "metadata": {},
   "source": [
    "<center><b>Get and Maintain a Lead</b></center>\n",
    "\n",
    "----\n",
    "The snowball effect has always been a topic of discussion amongst top tips to improving league of legends gameplay. Get a lead and keep it at all costs. This exploration into the dataset has given hard numbers supporting these claims.\n",
    "\n",
    "Before 40 minutes the top metrics of a team's success are about being ahead. Gold Earned, Champion Level, and Tower Kills. These features are not skill based. These are lead based. One top player that runs a youtube channel dedicated to advising players to improve their performance in the game has stated that League of Legends is a game of basic math; people with higher numbers win. This applies to one on one fights (the person with the higher level wins), pressure within the game (people with more dragon and baron kills have more pushing power) and the overarching game itself (players that kill more objectives win). This process has proven these claims with objective numbers to support the experience of top tier players and analysts.\n",
    "\n",
    "As much as League of Legends is a game of skill the main goal for players is the get and maintain a lead early."
   ]
  },
  {
   "cell_type": "markdown",
   "id": "9f077f50",
   "metadata": {},
   "source": [
    "<center><b>Late Game Skill</b></center>\n",
    "\n",
    "----\n",
    "After the 40 minute mark the predictors drastically change as players have reached the caps of Champion Levels and Item Levels.\n",
    "\n",
    "Bounty Level becomes the main predictor of winning teams as it implies a team has managed to win team fights and pushed to win."
   ]
  },
  {
   "cell_type": "markdown",
   "id": "aa56647b",
   "metadata": {},
   "source": [
    "<center><b>Next Steps</b></center>\n",
    "\n",
    "----\n",
    "\n",
    "Items was examined at a very basic level. This feature could benefit from an unsupervised classification model that could classify items based on poularity and impacts on gameplay mechanics.\n",
    "\n",
    "I don't think this could improve the Logitistic Regression Model I do believe it would give further insights into the items within the game potentially identifying powerful items teams should focus on as well as items which are underpowered which should be avoided. "
   ]
  }
 ],
 "metadata": {
  "kernelspec": {
   "display_name": "Python 3",
   "language": "python",
   "name": "python3"
  },
  "language_info": {
   "codemirror_mode": {
    "name": "ipython",
    "version": 3
   },
   "file_extension": ".py",
   "mimetype": "text/x-python",
   "name": "python",
   "nbconvert_exporter": "python",
   "pygments_lexer": "ipython3",
   "version": "3.8.8"
  }
 },
 "nbformat": 4,
 "nbformat_minor": 5
}
